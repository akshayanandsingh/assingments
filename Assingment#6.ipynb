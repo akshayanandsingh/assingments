{
 "cells": [
  {
   "cell_type": "markdown",
   "id": "11c575ca-0ae8-4a4b-a4ef-0f89cc4021e7",
   "metadata": {},
   "source": [
    "Answer-1"
   ]
  },
  {
   "cell_type": "code",
   "execution_count": 5,
   "id": "c3725b0b-b830-4433-8628-922e5b2ab389",
   "metadata": {},
   "outputs": [
    {
     "name": "stdin",
     "output_type": "stream",
     "text": [
      "enter your marks :  33\n"
     ]
    },
    {
     "name": "stdout",
     "output_type": "stream",
     "text": [
      "Grade D\n"
     ]
    }
   ],
   "source": [
    "marks = float(input(\"enter your marks : \"))\n",
    "if marks > 90:\n",
    "    print(\"Grade A\")\n",
    "        \n",
    "elif marks >80 and marks<=90:\n",
    "    print(\"Grade B\")\n",
    "elif marks>=60 and marks<=80:\n",
    "    print(\"Grade C\")\n",
    "else:\n",
    "    print(\"Grade D\")\n",
    "    \n",
    "                   "
   ]
  },
  {
   "cell_type": "code",
   "execution_count": null,
   "id": "991c39ff-06dd-4c0e-b579-f06df07c8890",
   "metadata": {},
   "outputs": [],
   "source": []
  },
  {
   "cell_type": "code",
   "execution_count": null,
   "id": "7b5f3b01-8f47-42ae-bb47-bad156e72939",
   "metadata": {},
   "outputs": [],
   "source": []
  },
  {
   "cell_type": "markdown",
   "id": "3aaadc57-aee6-4f06-aa85-2207c4ea0b5d",
   "metadata": {},
   "source": [
    "Answer-2"
   ]
  },
  {
   "cell_type": "code",
   "execution_count": 8,
   "id": "e1cb67a7-e2db-4e46-a216-8fd597167456",
   "metadata": {},
   "outputs": [
    {
     "name": "stdin",
     "output_type": "stream",
     "text": [
      "enter your cost price :  50000.45\n"
     ]
    },
    {
     "name": "stdout",
     "output_type": "stream",
     "text": [
      "Tax= 10%\n"
     ]
    }
   ],
   "source": [
    "cost = float(input(\"enter your cost price : \"))\n",
    "if cost>100000:\n",
    "    print(\"Tax= 15%\")\n",
    "        \n",
    "elif cost>50000 and cost<=100000:\n",
    "    print(\"Tax= 10%\")\n",
    "else:\n",
    "    print(\"Tax= 5%\")\n",
    "    "
   ]
  },
  {
   "cell_type": "code",
   "execution_count": null,
   "id": "49db708f-65af-420a-87a1-59d1faaa5cff",
   "metadata": {},
   "outputs": [],
   "source": []
  },
  {
   "cell_type": "code",
   "execution_count": null,
   "id": "fb4c2611-d61f-4cd3-b6e8-4171235951e0",
   "metadata": {},
   "outputs": [],
   "source": []
  },
  {
   "cell_type": "markdown",
   "id": "8491f4f3-42cd-473b-8eb9-4fb03bb09b9c",
   "metadata": {},
   "source": [
    "Answer-3"
   ]
  },
  {
   "cell_type": "code",
   "execution_count": 1,
   "id": "de8bb1e5-18f7-4e61-b8a2-4518aee02159",
   "metadata": {},
   "outputs": [
    {
     "name": "stdin",
     "output_type": "stream",
     "text": [
      "enter the city :  delhi\n"
     ]
    },
    {
     "name": "stdout",
     "output_type": "stream",
     "text": [
      "Here the famous monument is : Red Fort \n"
     ]
    }
   ],
   "source": [
    "city = (input(\"enter the city : \"))\n",
    "clower=city.lower()\n",
    "\n",
    "if clower == \"delhi\" :\n",
    "    print(\"Here the famous monument is : Red Fort \")\n",
    "        \n",
    "elif clower == \"agra\" :\n",
    "    print(\"Here the famous monument is : Taj Mahal \")\n",
    "elif clower == \"jaipur\" :\n",
    "    print(\"Here the famous monument is : Jai Mahal \")"
   ]
  },
  {
   "cell_type": "code",
   "execution_count": null,
   "id": "9167a249-210a-470c-b81e-e03f42f14c05",
   "metadata": {},
   "outputs": [],
   "source": []
  },
  {
   "cell_type": "code",
   "execution_count": null,
   "id": "9e639bef-1b48-4dcc-805f-706423a5ba2a",
   "metadata": {},
   "outputs": [],
   "source": []
  },
  {
   "cell_type": "markdown",
   "id": "f24aac70-0d87-46c7-9636-3137aae39079",
   "metadata": {},
   "source": [
    "Answer-4"
   ]
  },
  {
   "cell_type": "code",
   "execution_count": 4,
   "id": "a123a154-aa9c-4bae-a85c-1c19d2fd25b3",
   "metadata": {},
   "outputs": [
    {
     "name": "stdin",
     "output_type": "stream",
     "text": [
      "enter a number :  122321\n"
     ]
    },
    {
     "name": "stdout",
     "output_type": "stream",
     "text": [
      "9 times number can be divided by 3 before it is less than or equal to 10\n"
     ]
    }
   ],
   "source": [
    "number = int(input(\"enter a number : \"))\n",
    "count =0\n",
    "while number >= 10:\n",
    "    number= number/3 \n",
    "    count+=1\n",
    "print(f\"{count} times number can be divided by 3 before it is less than or equal to 10\")"
   ]
  },
  {
   "cell_type": "code",
   "execution_count": null,
   "id": "2b67c4e1-b1e3-40a5-bd59-97041859bff0",
   "metadata": {},
   "outputs": [],
   "source": []
  },
  {
   "cell_type": "code",
   "execution_count": null,
   "id": "6eb805b0-1cc7-48ee-bcad-b9876f0acfdd",
   "metadata": {},
   "outputs": [],
   "source": []
  },
  {
   "cell_type": "markdown",
   "id": "01646a49-5670-4999-a0ff-8fc77236e86a",
   "metadata": {},
   "source": [
    "Answer-5\n",
    "Python While Loop is used to execute a block of statements repeatedly until a given condition is satisfied. And when the condition becomes false, the line immediately after the loop in the program is executed.\n",
    "While loop is used for iteration until the mentioned condition becomes false."
   ]
  },
  {
   "cell_type": "code",
   "execution_count": 3,
   "id": "423e2fe0-5450-41f8-bc7b-997e33bb44b4",
   "metadata": {},
   "outputs": [
    {
     "name": "stdout",
     "output_type": "stream",
     "text": [
      "pwskills\n",
      "pwskills\n",
      "pwskills\n",
      "pwskills\n",
      "pwskills\n"
     ]
    }
   ],
   "source": [
    "#example\n",
    "count = 0\n",
    "while (count < 5):\n",
    "    count += 1\n",
    "    print(\"pwskills\")"
   ]
  },
  {
   "cell_type": "code",
   "execution_count": null,
   "id": "503f9af4-4e19-4180-92db-e3879c285e33",
   "metadata": {},
   "outputs": [],
   "source": []
  },
  {
   "cell_type": "code",
   "execution_count": null,
   "id": "039f177d-c413-4294-9c4e-3d081e5ee1b3",
   "metadata": {},
   "outputs": [],
   "source": []
  },
  {
   "cell_type": "markdown",
   "id": "90ee3f19-8b14-4f61-8931-a492f47e7249",
   "metadata": {},
   "source": [
    "Answer-6"
   ]
  },
  {
   "cell_type": "code",
   "execution_count": 13,
   "id": "8081f885-f085-4adc-bc6a-371f4b038bb0",
   "metadata": {},
   "outputs": [
    {
     "name": "stdout",
     "output_type": "stream",
     "text": [
      "*\n",
      "**\n",
      "***\n",
      "****\n",
      "*****\n"
     ]
    }
   ],
   "source": [
    "i=1\n",
    "while i<=5:\n",
    "    a=1\n",
    "    while a<=i:\n",
    "        print(\"*\",end=\"\")\n",
    "        a+=1\n",
    "    i+=1\n",
    "    print()"
   ]
  },
  {
   "cell_type": "code",
   "execution_count": 1,
   "id": "1947ffb1-c422-48f0-b9dd-8c59d2a6ffef",
   "metadata": {},
   "outputs": [
    {
     "name": "stdout",
     "output_type": "stream",
     "text": [
      "12345\n",
      "1234\n",
      "123\n",
      "12\n",
      "1\n"
     ]
    }
   ],
   "source": [
    "i=5\n",
    "while i>0:\n",
    "    a=1\n",
    "    while a<=i:\n",
    "        print(a,end=\"\")\n",
    "        a+=1\n",
    "    i-=1\n",
    "    print()"
   ]
  },
  {
   "cell_type": "code",
   "execution_count": 2,
   "id": "3813a306-cdf7-4d9d-9be7-d21333a82e69",
   "metadata": {},
   "outputs": [
    {
     "name": "stdout",
     "output_type": "stream",
     "text": [
      "1\n",
      "22\n",
      "333\n",
      "4444\n",
      "55555\n"
     ]
    }
   ],
   "source": [
    "i=1\n",
    "while i<=5:\n",
    "    a=1\n",
    "    while a<=i:\n",
    "        print(i,end=\"\")\n",
    "        a+=1\n",
    "    i+=1\n",
    "    print()"
   ]
  },
  {
   "cell_type": "code",
   "execution_count": null,
   "id": "4de24cd6-1a9d-42f4-906c-8a38bee7fd07",
   "metadata": {},
   "outputs": [],
   "source": []
  },
  {
   "cell_type": "code",
   "execution_count": null,
   "id": "5d091c42-941b-4906-97ee-24a9a4854a5c",
   "metadata": {},
   "outputs": [],
   "source": []
  },
  {
   "cell_type": "markdown",
   "id": "810b6ce5-19e2-45af-a712-d0ad55676773",
   "metadata": {},
   "source": [
    "Answer-7"
   ]
  },
  {
   "cell_type": "code",
   "execution_count": 16,
   "id": "a7c9f44c-07c1-4a8a-b372-d4eef56da225",
   "metadata": {},
   "outputs": [
    {
     "name": "stdout",
     "output_type": "stream",
     "text": [
      "10\n",
      "9\n",
      "8\n",
      "7\n",
      "6\n",
      "5\n",
      "4\n",
      "3\n",
      "2\n",
      "1\n"
     ]
    }
   ],
   "source": [
    "i = 10\n",
    "while i>0:\n",
    "    print(i)\n",
    "    i-=1"
   ]
  }
 ],
 "metadata": {
  "kernelspec": {
   "display_name": "Python 3 (ipykernel)",
   "language": "python",
   "name": "python3"
  },
  "language_info": {
   "codemirror_mode": {
    "name": "ipython",
    "version": 3
   },
   "file_extension": ".py",
   "mimetype": "text/x-python",
   "name": "python",
   "nbconvert_exporter": "python",
   "pygments_lexer": "ipython3",
   "version": "3.10.8"
  }
 },
 "nbformat": 4,
 "nbformat_minor": 5
}
