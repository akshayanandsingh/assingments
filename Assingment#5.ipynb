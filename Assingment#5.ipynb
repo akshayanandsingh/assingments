{
 "cells": [
  {
   "cell_type": "markdown",
   "id": "f8047907-4644-4f89-af84-09bd7c93876c",
   "metadata": {},
   "source": [
    "1- Who developed Python programming language?\n",
    "\n",
    "Answer-Python was created by Guido van Rossum, and first released on February 20, 1991."
   ]
  },
  {
   "cell_type": "code",
   "execution_count": null,
   "id": "dafc0515-bda5-4ea2-978c-787374f75c80",
   "metadata": {},
   "outputs": [],
   "source": []
  },
  {
   "cell_type": "markdown",
   "id": "47c44b0b-cfac-4d48-94bf-9e93f21aebfa",
   "metadata": {},
   "source": [
    "2-Which type of programming does python support?\n",
    "\n",
    "Answer-Python is an interpreted programming language, supporting object-oriented, structured, and functional programming."
   ]
  },
  {
   "cell_type": "code",
   "execution_count": null,
   "id": "5e35182b-201c-4543-a92e-7b902b71a8e1",
   "metadata": {},
   "outputs": [],
   "source": []
  },
  {
   "cell_type": "markdown",
   "id": "34483b01-52ad-4644-a577-ce2970f917d8",
   "metadata": {},
   "source": [
    "3- Is python case sensitive when dealing with identifires?\n",
    "\n",
    "Answer- Yes, Python is a case-sensitive language, i.e., it treats uppercase and lowercase characters differently. \n",
    "This applies to identifiers too. You must avoid using the same name with different cases while naming identifiers."
   ]
  },
  {
   "cell_type": "code",
   "execution_count": null,
   "id": "625ce8a8-8422-4175-8c5b-3aff1b869822",
   "metadata": {},
   "outputs": [],
   "source": []
  },
  {
   "cell_type": "markdown",
   "id": "69c434ea-1913-4414-8352-0ff5267bb204",
   "metadata": {},
   "source": [
    "4- What is the correct extension of the python file?\n",
    "\n",
    "Answer- The extensions for Python files are - .py, .pyi, .pyc, .pyd, .pyo, .pyw, and .pyz."
   ]
  },
  {
   "cell_type": "code",
   "execution_count": null,
   "id": "17b2f154-ba90-41ef-b453-f27a29caab1d",
   "metadata": {},
   "outputs": [],
   "source": []
  },
  {
   "cell_type": "markdown",
   "id": "0c7b66a1-9d15-440b-9d1e-8a9c7615a4c8",
   "metadata": {},
   "source": [
    "5- Is python code compiled or interpreted?\n",
    "\n",
    "Answer- Python is an interpreted language, which means the source code of a Python program is converted into bytecode that is then executed by the Python virtual machine."
   ]
  },
  {
   "cell_type": "code",
   "execution_count": null,
   "id": "35fb7e64-1c38-4144-bb80-f12cb3102bcd",
   "metadata": {},
   "outputs": [],
   "source": []
  },
  {
   "cell_type": "markdown",
   "id": "ba9e3c3d-3070-4121-9d23-242ccd8ef871",
   "metadata": {},
   "source": [
    "6- Name a few blocks of code used to define in python language.\n",
    "\n",
    "Answer- A Python program is constructed from code blocks.\n",
    "A block is a piece of Python program text that is executed as a unit. \n",
    "The following are blocks: \n",
    "a module,\n",
    "a function body\n",
    "and a class definition\n",
    "Each command typed interactively is a block. A script file (a file given as standard input to the interpreter or specified as a command line argument to the interpreter) is a code block."
   ]
  },
  {
   "cell_type": "code",
   "execution_count": null,
   "id": "fa9b9bc6-5f15-448e-ab21-4476748c8a15",
   "metadata": {},
   "outputs": [],
   "source": []
  },
  {
   "cell_type": "markdown",
   "id": "33d715d7-87de-410d-b63d-32a674d819c0",
   "metadata": {},
   "source": [
    "7- State a character used to give single-line comments in python.\n",
    "\n",
    "Answer- We can write a single-line comment by adding a single # character before any statement or line of code."
   ]
  },
  {
   "cell_type": "code",
   "execution_count": null,
   "id": "e969d5f6-c201-42b5-98c3-4a4d04191a17",
   "metadata": {},
   "outputs": [],
   "source": []
  },
  {
   "cell_type": "markdown",
   "id": "c6762ed3-7ad4-4a7e-afcc-2fef4f0988a0",
   "metadata": {},
   "source": [
    "8- Mention the functions which can help us to find the version of python that we are currently working on.\n",
    "\n",
    "Answer-  The function sys. version can help us to find the version of python that we are currently working on."
   ]
  },
  {
   "cell_type": "code",
   "execution_count": null,
   "id": "ed3d6c44-d910-4ab3-9bdf-096a3ac77115",
   "metadata": {},
   "outputs": [],
   "source": []
  },
  {
   "cell_type": "markdown",
   "id": "b1df5230-5f11-4064-8c76-0c06cd302692",
   "metadata": {},
   "source": [
    "9- Python supports the creation of ananymous functions at runtime using a constructor called ________\n",
    "\n",
    "Answer-Lambda"
   ]
  },
  {
   "cell_type": "code",
   "execution_count": null,
   "id": "ba9999f0-c757-46bc-92aa-a95b651f9c9c",
   "metadata": {},
   "outputs": [],
   "source": []
  },
  {
   "cell_type": "markdown",
   "id": "cdf49dd9-739a-4ba8-b59f-657985f027fb",
   "metadata": {},
   "source": [
    "10- What does pip stand for python?\n",
    "\n",
    "Answer- Developed in 2008, pip (an acronym of “pip Install Packages”) is today the standard tool for installing Python packages and their dependencies in a secure manner."
   ]
  },
  {
   "cell_type": "code",
   "execution_count": null,
   "id": "29d6ca6e-b75b-46d2-b652-fdf1a1de51ad",
   "metadata": {},
   "outputs": [],
   "source": []
  },
  {
   "cell_type": "markdown",
   "id": "6a634a89-798a-4196-b8d7-9a6d29567f79",
   "metadata": {},
   "source": [
    "11- Mention a few built in functions in python.\n",
    "\n",
    "Answer- \n",
    "\n",
    "input()-\tAllowing user input\n",
    "\n",
    "int()-\tReturns an integer number\n",
    "\n",
    "iter()-\tReturns an iterator object\n",
    "\n",
    "print()-\tPrints to the standard output device\n",
    "\n",
    "range()-\tReturns a sequence of numbers, starting from 0 and increments by 1 (by default)\n",
    "\n",
    "reversed()-\tReturns a reversed iterator\n",
    "\n",
    "round()-\tRounds a numbers\n",
    "\n",
    "etc."
   ]
  },
  {
   "cell_type": "code",
   "execution_count": null,
   "id": "d80ca182-ce56-44b7-b7f1-4537aaa6a815",
   "metadata": {},
   "outputs": [],
   "source": []
  },
  {
   "cell_type": "markdown",
   "id": "6116468b-d1d0-4043-b8bf-d226226d477a",
   "metadata": {},
   "source": [
    "12-What is the maximum possible length of an identifier in python?\n",
    "\n",
    "Answer- An identifier can have a maximum length of 79 characters in Python."
   ]
  },
  {
   "cell_type": "code",
   "execution_count": null,
   "id": "c72e702b-d47e-4b75-9787-5f3a622bd29a",
   "metadata": {},
   "outputs": [],
   "source": []
  },
  {
   "cell_type": "markdown",
   "id": "3b3b38d0-e625-47ad-9568-b43836448899",
   "metadata": {},
   "source": [
    "13-What are the benefits of using python?\n",
    "\n",
    "Answer- The benefits are as follows:-\n",
    "\n",
    "Simple to Use and Understand. For newcomers, Python is simple to understand and use.\n",
    "\n",
    "Free and Open-Source.\n",
    "\n",
    "Productivity has Increased.\n",
    "\n",
    "Interpreted Language.\n",
    "\n",
    "Extensive library.\n",
    "\n",
    "Dynamically Typed.\n",
    "\n",
    "Portability.\n",
    "\n",
    "Supportive community."
   ]
  },
  {
   "cell_type": "code",
   "execution_count": null,
   "id": "beb4f78f-6b6b-4aa4-8470-92952be29d06",
   "metadata": {},
   "outputs": [],
   "source": []
  },
  {
   "cell_type": "markdown",
   "id": "f59f87c8-c3e4-4489-a09c-167ab94e2e17",
   "metadata": {},
   "source": [
    "14- How is memory managed in python?\n",
    "\n",
    "Answer- Memory management in Python involves a private heap containing all Python objects and data structures. The management of this private heap is ensured internally by the Python memory manager. The Python memory manager has different components which deal with various dynamic storage management aspects, like sharing, segmentation, preallocation or caching."
   ]
  },
  {
   "cell_type": "code",
   "execution_count": null,
   "id": "f8df1d3d-f173-4db2-98bb-fd030bbd466b",
   "metadata": {},
   "outputs": [],
   "source": []
  },
  {
   "cell_type": "markdown",
   "id": "e59d2704-6f84-4663-869b-10830b2c8590",
   "metadata": {},
   "source": [
    "15- How to install python on windows and set path variables?\n",
    "\n",
    "Answer- Download the executable file\n",
    "\n",
    "You can open executable file to install Python.\n",
    "\n",
    "Click on Run, which will start the installation process.\n",
    "\n",
    "select the checkbox at the bottom to Add Python 3.7 to PATH.\n",
    "\n",
    "Once the installation is complete, the below pop-up box will appear: Setup was successful.\n",
    "\n"
   ]
  },
  {
   "cell_type": "code",
   "execution_count": null,
   "id": "b5e52809-7f54-4c25-be35-354134b0c19c",
   "metadata": {},
   "outputs": [],
   "source": []
  },
  {
   "cell_type": "markdown",
   "id": "34ff138e-b4dd-4efa-aa30-fe15e52b653f",
   "metadata": {},
   "source": [
    "16- Is indentation required in python?\n",
    "\n",
    "Answer- Indentation is important to Python because it's how you determine scope. Scope is how Python knows what code belongs to what part of the program."
   ]
  },
  {
   "cell_type": "code",
   "execution_count": null,
   "id": "b1c2bb01-a0c1-42a7-b318-b832cdb14683",
   "metadata": {},
   "outputs": [],
   "source": []
  }
 ],
 "metadata": {
  "kernelspec": {
   "display_name": "Python 3 (ipykernel)",
   "language": "python",
   "name": "python3"
  },
  "language_info": {
   "codemirror_mode": {
    "name": "ipython",
    "version": 3
   },
   "file_extension": ".py",
   "mimetype": "text/x-python",
   "name": "python",
   "nbconvert_exporter": "python",
   "pygments_lexer": "ipython3",
   "version": "3.10.8"
  }
 },
 "nbformat": 4,
 "nbformat_minor": 5
}
