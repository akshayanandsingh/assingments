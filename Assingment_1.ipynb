{
 "cells": [
  {
   "cell_type": "markdown",
   "id": "bd15c447-1c6f-482f-aac7-92f4a7c8f4d2",
   "metadata": {},
   "source": [
    "Answer-1  -Explain with an example each when to use a for loop and a while loop."
   ]
  },
  {
   "cell_type": "markdown",
   "id": "68fe4a9b-6dd0-42d7-9bbe-9e8ed5f145c8",
   "metadata": {},
   "source": [
    "The for statement iterates through a collection or iterable object or generator function.\n",
    "Example:-\n",
    "for x in range(101)--------> iterates the loop from 0 to 100\n",
    "\n",
    "\n",
    "The while statement simply loops until a condition is False.\n",
    "Example:-\n",
    "x=0\n",
    "while x > 10:\n",
    "    (do this)\n",
    "    x += 1\n",
    "this loop will run until x > 10 becomes false"
   ]
  },
  {
   "cell_type": "code",
   "execution_count": null,
   "id": "6c2c3efd-5c9c-44d0-a297-1a78a01e74ec",
   "metadata": {},
   "outputs": [],
   "source": []
  },
  {
   "cell_type": "code",
   "execution_count": null,
   "id": "a0c262cb-ce52-47be-a5de-520d516108ba",
   "metadata": {},
   "outputs": [],
   "source": []
  },
  {
   "cell_type": "markdown",
   "id": "2123de4b-0006-495b-be13-855805880d92",
   "metadata": {},
   "source": [
    "Answer-2  - The sum and product of the first 10 natural numbers using for and while loop"
   ]
  },
  {
   "cell_type": "code",
   "execution_count": 2,
   "id": "9b2216a7-c19d-4b50-bccc-c9935d35c0e5",
   "metadata": {},
   "outputs": [
    {
     "name": "stdout",
     "output_type": "stream",
     "text": [
      "55\n"
     ]
    }
   ],
   "source": [
    " summ = 0                 #using for loop for sum\n",
    " for i in range(0,11):\n",
    "     summ = summ+i\n",
    " print(summ)"
   ]
  },
  {
   "cell_type": "code",
   "execution_count": 4,
   "id": "e277a54b-8897-4e09-8ca8-616103a19880",
   "metadata": {},
   "outputs": [
    {
     "name": "stdout",
     "output_type": "stream",
     "text": [
      "55\n"
     ]
    }
   ],
   "source": [
    " number= 0              #usinng while loop for sum\n",
    " summ=0\n",
    " while number<11:\n",
    "     summ += number\n",
    "     number += 1\n",
    " print(summ)"
   ]
  },
  {
   "cell_type": "code",
   "execution_count": 5,
   "id": "31ed8b40-5156-46f9-8169-275b7343cfc3",
   "metadata": {},
   "outputs": [
    {
     "name": "stdout",
     "output_type": "stream",
     "text": [
      "3628800\n"
     ]
    }
   ],
   "source": [
    " prod = 1             #Product using for loop\n",
    " for i in range(2,11):\n",
    "     prod *= i\n",
    " print(prod)"
   ]
  },
  {
   "cell_type": "code",
   "execution_count": 6,
   "id": "736b8970-f3db-40b0-affc-4e82fd36e059",
   "metadata": {},
   "outputs": [
    {
     "name": "stdout",
     "output_type": "stream",
     "text": [
      "3628800\n"
     ]
    }
   ],
   "source": [
    " number = 2         #Product using while loop\n",
    " prod = 1\n",
    " while number<11:\n",
    "     prod *= number\n",
    "     number += 1\n",
    " print(prod)"
   ]
  },
  {
   "cell_type": "code",
   "execution_count": null,
   "id": "e5a301ea-a2d2-4cbd-b1dd-49b10200910e",
   "metadata": {},
   "outputs": [],
   "source": []
  },
  {
   "cell_type": "code",
   "execution_count": null,
   "id": "7c12e1e7-3a44-42da-aca7-a79f830602e6",
   "metadata": {},
   "outputs": [],
   "source": []
  },
  {
   "cell_type": "markdown",
   "id": "2aa9db46-1758-42a8-be6d-3c27596a5f3d",
   "metadata": {},
   "source": [
    "Answer-3 - Python program to compute the electricity bill for a household."
   ]
  },
  {
   "cell_type": "code",
   "execution_count": 8,
   "id": "88af9f4d-be96-4aec-b90e-3371ec2e16e9",
   "metadata": {},
   "outputs": [
    {
     "name": "stdin",
     "output_type": "stream",
     "text": [
      "Enter electricity consumed in units :  310\n"
     ]
    },
    {
     "name": "stdout",
     "output_type": "stream",
     "text": [
      "Your total electricity bill is 2250\n"
     ]
    }
   ],
   "source": [
    "unit_consumed= int(input(\"Enter electricity consumed in units : \"))\n",
    "\n",
    "if unit_consumed in range(1,101):\n",
    "    x = unit_consumed * 4.5\n",
    "    print(f\"Your total electricity bill is {x}\")\n",
    "elif unit_consumed in range(101,201):\n",
    "    x= 450 + (unit_consumed - 100)*6\n",
    "    print(f\"Your total electricity bill is {x}\")\n",
    "elif unit_consumed in range(201,301):\n",
    "    x= 450 + 600 + (unit_consumed - 200)*10\n",
    "    print(f\"Your total electricity bill is {x}\")\n",
    "else:\n",
    "    x= 450 + 600 + 1000 + (unit_consumed - 300)*20\n",
    "    print(f\"Your total electricity bill is {x}\")"
   ]
  },
  {
   "cell_type": "code",
   "execution_count": null,
   "id": "5e8d98df-5005-4e01-8138-c8493c639621",
   "metadata": {},
   "outputs": [],
   "source": []
  },
  {
   "cell_type": "code",
   "execution_count": null,
   "id": "e77fd393-420d-4e29-b1cd-7334f37b0cd3",
   "metadata": {},
   "outputs": [],
   "source": []
  },
  {
   "cell_type": "markdown",
   "id": "a3898849-3ac4-4fc3-9401-7ea88e88a371",
   "metadata": {},
   "source": [
    "Answer-4 -  Create a list of numbers from 1 to 100. Use for loop and while loop to calculate the cube of each \n",
    "number and if the cube of that number is divisible by 4 or 5 then append that number in a list and print \n",
    "that list"
   ]
  },
  {
   "cell_type": "code",
   "execution_count": 20,
   "id": "7560200c-6fbe-4228-9e8d-fea40d4955de",
   "metadata": {},
   "outputs": [
    {
     "name": "stdout",
     "output_type": "stream",
     "text": [
      "['2:8', '4:64', '5:125', '6:216', '8:512', '10:1000', '12:1728', '14:2744', '15:3375', '16:4096', '18:5832', '20:8000', '22:10648', '24:13824', '25:15625', '26:17576', '28:21952', '30:27000', '32:32768', '34:39304', '35:42875', '36:46656', '38:54872', '40:64000', '42:74088', '44:85184', '45:91125', '46:97336', '48:110592', '50:125000', '52:140608', '54:157464', '55:166375', '56:175616', '58:195112', '60:216000', '62:238328', '64:262144', '65:274625', '66:287496', '68:314432', '70:343000', '72:373248', '74:405224', '75:421875', '76:438976', '78:474552', '80:512000', '82:551368', '84:592704', '85:614125', '86:636056', '88:681472', '90:729000', '92:778688', '94:830584', '95:857375', '96:884736', '98:941192', '100:1000000']\n"
     ]
    }
   ],
   "source": [
    "l1=[]                        #using for loop\n",
    "for i in range(1,101):\n",
    "    l1.append(i)\n",
    "\n",
    "\n",
    "l2=[]\n",
    "\n",
    "for x in l1:\n",
    "    cube= x*x*x\n",
    "    if cube%4== 0 or cube%5==0:\n",
    "        l2.append(f\"{x}:{cube}\")\n",
    "print(l2)\n"
   ]
  },
  {
   "cell_type": "code",
   "execution_count": 23,
   "id": "ead549e5-841b-4c6c-92ae-9735e0430167",
   "metadata": {},
   "outputs": [
    {
     "name": "stdout",
     "output_type": "stream",
     "text": [
      "['2:8', '4:64', '5:125', '6:216', '8:512', '10:1000', '12:1728', '14:2744', '15:3375', '16:4096', '18:5832', '20:8000', '22:10648', '24:13824', '25:15625', '26:17576', '28:21952', '30:27000', '32:32768', '34:39304', '35:42875', '36:46656', '38:54872', '40:64000', '42:74088', '44:85184', '45:91125', '46:97336', '48:110592', '50:125000', '52:140608', '54:157464', '55:166375', '56:175616', '58:195112', '60:216000', '62:238328', '64:262144', '65:274625', '66:287496', '68:314432', '70:343000', '72:373248', '74:405224', '75:421875', '76:438976', '78:474552', '80:512000', '82:551368', '84:592704', '85:614125', '86:636056', '88:681472', '90:729000', '92:778688', '94:830584', '95:857375', '96:884736', '98:941192', '100:1000000']\n"
     ]
    }
   ],
   "source": [
    "l1=[]                    #using while loop\n",
    "for i in range(1,101):\n",
    "    l1.append(i)\n",
    "\n",
    "\n",
    "l2=[]\n",
    "x=1\n",
    "while x in l1:\n",
    "    cube= x*x*x\n",
    "    if cube%4== 0 or cube%5==0:\n",
    "        l2.append(f\"{x}:{cube}\")\n",
    "    x += 1\n",
    "print(l2)"
   ]
  },
  {
   "cell_type": "code",
   "execution_count": null,
   "id": "421844b8-4689-4216-b8c4-4c10d433bd38",
   "metadata": {},
   "outputs": [],
   "source": []
  },
  {
   "cell_type": "code",
   "execution_count": null,
   "id": "923cbee5-87a2-4897-99d3-6a228dda3fe1",
   "metadata": {},
   "outputs": [],
   "source": []
  },
  {
   "cell_type": "markdown",
   "id": "1aa9aab0-a01e-42d3-819f-22e5c68dcafe",
   "metadata": {},
   "source": [
    "Answer-5 - A program to filter count vowels in the given string"
   ]
  },
  {
   "cell_type": "code",
   "execution_count": 24,
   "id": "33711cf3-a0a6-4398-9a3b-a8ab3b0755bf",
   "metadata": {},
   "outputs": [
    {
     "name": "stdout",
     "output_type": "stream",
     "text": [
      "Number of vowels in string are : 12 \n"
     ]
    }
   ],
   "source": [
    "x=  \"I want to become a data scientist\"\n",
    "string=x.lower()\n",
    "\n",
    "count=0\n",
    "vowel=[\"a\",\"e\",\"i\",\"o\",\"u\"]\n",
    "for i in range(len(string)):\n",
    "    if string[i] in vowel:\n",
    "        count += 1\n",
    "print(f\"Number of vowels in string are : {count} \")"
   ]
  },
  {
   "cell_type": "code",
   "execution_count": null,
   "id": "996bf0f5-4dd4-4cd4-a34d-2d1fa7e84c88",
   "metadata": {},
   "outputs": [],
   "source": []
  }
 ],
 "metadata": {
  "kernelspec": {
   "display_name": "Python 3 (ipykernel)",
   "language": "python",
   "name": "python3"
  },
  "language_info": {
   "codemirror_mode": {
    "name": "ipython",
    "version": 3
   },
   "file_extension": ".py",
   "mimetype": "text/x-python",
   "name": "python",
   "nbconvert_exporter": "python",
   "pygments_lexer": "ipython3",
   "version": "3.10.8"
  }
 },
 "nbformat": 4,
 "nbformat_minor": 5
}
