{
 "cells": [
  {
   "cell_type": "markdown",
   "id": "db237f18-2e5a-410f-a960-f506760d85a7",
   "metadata": {},
   "source": [
    "Q1. Explain Class and Object with respect to Object-Oriented Programming. Give a suitable example.\n",
    "\n",
    "Answer-1  Class is like a blueprint or prototype of object, Like class is a sketch or blue print of a car,it contains all the detailes like color,model,speed etc. based on these description car is built. So car is the object here.\n",
    "\n",
    "Since many cars can be made from the same description, we can create many objects from a class."
   ]
  },
  {
   "cell_type": "code",
   "execution_count": 3,
   "id": "caa1fd2b-8949-41be-9e84-a32fb258b527",
   "metadata": {},
   "outputs": [],
   "source": [
    "#example\n",
    "#We use the class keyword to create a class in Python. For example,\n",
    "\n",
    "class car:\n",
    "    name =\"\"\n",
    "    # class definition\n",
    "    \n",
    "#Here, we have created a class named Car.\n",
    "\n",
    "\n",
    "#An object is called an instance of a class. For example, suppose Bike is a class then we can create objects like bike1, bike2, etc from the class.\n",
    "\n",
    "#Here's the syntax to create an object.\n",
    "\n",
    "#objectName = ClassName()\n",
    "\n",
    "#Let's see an example,\n",
    "\n",
    "# create class\n",
    "class car:\n",
    "    name = \"\"\n",
    "    gear = 0\n",
    "\n",
    "# create objects of class\n",
    "car1 = car()\n",
    "\n",
    "\n"
   ]
  },
  {
   "cell_type": "code",
   "execution_count": null,
   "id": "80683897-1a5c-421f-9120-1947520242d9",
   "metadata": {},
   "outputs": [],
   "source": []
  },
  {
   "cell_type": "code",
   "execution_count": null,
   "id": "91588513-aad4-4b59-ac85-5c67f7338926",
   "metadata": {},
   "outputs": [],
   "source": []
  },
  {
   "cell_type": "markdown",
   "id": "18734664-693a-45cb-a2c0-a816a3b4c87a",
   "metadata": {},
   "source": [
    "Q2. Name the four pillars of OOPs.\n",
    "\n",
    "A-2\n",
    "The four pillars of OOPs are as follows:-\n",
    "\n",
    "1- Polymorphism\n",
    "\n",
    "2- Encapsulation\n",
    "\n",
    "3- Inheritance\n",
    "\n",
    "4- Abstraction"
   ]
  },
  {
   "cell_type": "code",
   "execution_count": null,
   "id": "9d6c6aac-a792-45b7-9206-a4a77bd65219",
   "metadata": {},
   "outputs": [],
   "source": []
  },
  {
   "cell_type": "code",
   "execution_count": null,
   "id": "56bf59e0-342c-4a95-8ea1-c33c3d352059",
   "metadata": {},
   "outputs": [],
   "source": []
  },
  {
   "cell_type": "markdown",
   "id": "30ca7f45-049a-4581-883a-4e9ee0724540",
   "metadata": {},
   "source": [
    "Q3. Explain why the __init__() function is used. Give a suitable example."
   ]
  },
  {
   "cell_type": "markdown",
   "id": "ceb3936e-ef8a-426e-93dd-1f61fa28f30c",
   "metadata": {},
   "source": [
    "Answer-3  The __init__ function is called every time an object is created from a class. The __init__ method lets the class initialize the object's attributes and serves no other purpose. It is only used within classes"
   ]
  },
  {
   "cell_type": "code",
   "execution_count": 5,
   "id": "e66aafa1-149f-41f6-aa9b-3db65c10284b",
   "metadata": {},
   "outputs": [
    {
     "name": "stdout",
     "output_type": "stream",
     "text": [
      "Hello, my name is Nikhil\n"
     ]
    }
   ],
   "source": [
    "#example\n",
    "# A Sample class with init method\n",
    "class Person:\n",
    "\n",
    "    # init method or constructor\n",
    "    def __init__(self, name):\n",
    "        self.name = name\n",
    "\n",
    "    # Sample Method\n",
    "    def say_hi(self):\n",
    "        print('Hello, my name is', self.name)\n",
    "\n",
    "\n",
    "p = Person('Nikhil')\n",
    "p.say_hi()\n"
   ]
  },
  {
   "cell_type": "code",
   "execution_count": null,
   "id": "a32ccadd-3f35-40f7-b413-705da0cfe847",
   "metadata": {},
   "outputs": [],
   "source": []
  },
  {
   "cell_type": "code",
   "execution_count": null,
   "id": "bf95c3b0-bd79-438d-b8a9-6faeacf453af",
   "metadata": {},
   "outputs": [],
   "source": []
  },
  {
   "cell_type": "markdown",
   "id": "bcb5a706-cf6f-4d7c-b36f-ffe9bd842061",
   "metadata": {},
   "source": [
    "Q4. Why self is used in OOPs?"
   ]
  },
  {
   "cell_type": "markdown",
   "id": "1b9e5f25-5ffa-48b5-84cf-8a08bbb8471a",
   "metadata": {},
   "source": [
    "Answer-4 The self variable is used to represent the instance of the class which is often used in object-oriented programming. It works as a reference to the object. Python uses the self parameter to refer to instance attributes and methods of the class.\n",
    "\n"
   ]
  },
  {
   "cell_type": "code",
   "execution_count": null,
   "id": "007c5043-fbb6-48ea-978e-928da2b3f985",
   "metadata": {},
   "outputs": [],
   "source": []
  },
  {
   "cell_type": "code",
   "execution_count": null,
   "id": "784bbc46-de52-4d2f-ab89-d7b96ba49f87",
   "metadata": {},
   "outputs": [],
   "source": []
  },
  {
   "cell_type": "markdown",
   "id": "89ec7480-7945-43ba-a66b-62511bbf7a54",
   "metadata": {},
   "source": [
    "Q5. What is inheritance? Give an example for each type of inheritance."
   ]
  },
  {
   "cell_type": "markdown",
   "id": "7136bccb-eb28-41d1-a76a-b8c881a9d475",
   "metadata": {},
   "source": [
    "Answer-5 \n",
    "Inheritance is a mechanism in which one class acquires the property of another class. For example, a child inherits the traits of his/her parents. With inheritance, we can reuse the fields and methods of the existing class. Hence, inheritance facilitates Reusability and is an important concept of OOPs\n",
    "\n"
   ]
  },
  {
   "cell_type": "code",
   "execution_count": 6,
   "id": "7c04de47-2505-40e0-9702-bee38c934615",
   "metadata": {},
   "outputs": [
    {
     "data": {
      "text/plain": [
       "'this is my first class'"
      ]
     },
     "execution_count": 6,
     "metadata": {},
     "output_type": "execute_result"
    }
   ],
   "source": [
    "#single inheritance\n",
    "class parent:\n",
    "    def parent_meth(self):\n",
    "        return \"this is my first class\"\n",
    "    \n",
    "class child(parent):\n",
    "    pass\n",
    "\n",
    "obj= child()\n",
    "obj.parent_meth()"
   ]
  },
  {
   "cell_type": "code",
   "execution_count": 9,
   "id": "8afa1ed2-af2d-4881-aabd-ad8bdb3a6504",
   "metadata": {},
   "outputs": [
    {
     "data": {
      "text/plain": [
       "'this is our method from class1'"
      ]
     },
     "execution_count": 9,
     "metadata": {},
     "output_type": "execute_result"
    }
   ],
   "source": [
    "#Multi level inhaeritance\n",
    "\n",
    "class class1:\n",
    "    def test_class1(self):\n",
    "        return \"this is our method from class1\"\n",
    "    \n",
    "class class2(class1):\n",
    "    def test_class2(self):\n",
    "        return \"this is our method from class2\"\n",
    "    \n",
    "class class3(class2):\n",
    "    pass\n",
    "\n",
    "\n",
    "onj=class3()\n",
    "onj.test_class1()\n"
   ]
  },
  {
   "cell_type": "code",
   "execution_count": 11,
   "id": "a1c13a85-7734-42c4-a953-b5205e0eb5ca",
   "metadata": {},
   "outputs": [
    {
     "data": {
      "text/plain": [
       "'this is our method from class2'"
      ]
     },
     "execution_count": 11,
     "metadata": {},
     "output_type": "execute_result"
    }
   ],
   "source": [
    "onj.test_class2()"
   ]
  },
  {
   "cell_type": "code",
   "execution_count": 12,
   "id": "fff92b04-60a4-481c-aab0-bcb332cf1bd9",
   "metadata": {},
   "outputs": [],
   "source": [
    "#multiple inheritance\n",
    "class class4:\n",
    "    def test_class4(self):\n",
    "        return \"this is our method from class 4\"\n",
    "    \n",
    "    \n",
    "class class5:\n",
    "    def test_class5(self):\n",
    "        return \"this is our method from class 5\"\n",
    "    \n",
    "\n",
    "class class6(class4,class5):\n",
    "    pass\n",
    "\n",
    "\n",
    "\n",
    "okj= class6()\n",
    "\n",
    "    \n"
   ]
  },
  {
   "cell_type": "code",
   "execution_count": 13,
   "id": "5e018bce-a749-4492-9611-a45bd6edd4aa",
   "metadata": {},
   "outputs": [
    {
     "data": {
      "text/plain": [
       "'this is our method from class 4'"
      ]
     },
     "execution_count": 13,
     "metadata": {},
     "output_type": "execute_result"
    }
   ],
   "source": [
    "okj.test_class4()"
   ]
  },
  {
   "cell_type": "code",
   "execution_count": 14,
   "id": "5e42e93b-5395-4338-a92b-2561510b5e91",
   "metadata": {},
   "outputs": [
    {
     "data": {
      "text/plain": [
       "'this is our method from class 5'"
      ]
     },
     "execution_count": 14,
     "metadata": {},
     "output_type": "execute_result"
    }
   ],
   "source": [
    "okj.test_class5()"
   ]
  },
  {
   "cell_type": "code",
   "execution_count": null,
   "id": "9751bd3c-9bd9-4d33-8030-c5c23befd243",
   "metadata": {},
   "outputs": [],
   "source": []
  },
  {
   "cell_type": "code",
   "execution_count": null,
   "id": "7b55fbf9-9ebc-4a76-bba0-3dc3ade9f4c6",
   "metadata": {},
   "outputs": [],
   "source": []
  },
  {
   "cell_type": "code",
   "execution_count": 21,
   "id": "5af5c4f0-745e-4cf6-b538-238d9da94603",
   "metadata": {},
   "outputs": [],
   "source": [
    "## Hierarchical inheritance\n",
    "\n",
    "class classA:\n",
    "    def TestA(self):\n",
    "        return \" this is class A\"\n",
    "\n",
    "class classB(classA):\n",
    "    def TestB(self):\n",
    "        return \" this is class b\"\n",
    "    \n",
    "    \n",
    "class classC(classA):\n",
    "    def TestC(self):\n",
    "        return \" this is class c\"\n",
    "    \n"
   ]
  },
  {
   "cell_type": "code",
   "execution_count": 22,
   "id": "67301791-6429-4ee4-b4ce-de46985a8296",
   "metadata": {},
   "outputs": [
    {
     "data": {
      "text/plain": [
       "' this is class A'"
      ]
     },
     "execution_count": 22,
     "metadata": {},
     "output_type": "execute_result"
    }
   ],
   "source": [
    "obj1= classB()\n",
    "obj1.TestA()"
   ]
  },
  {
   "cell_type": "code",
   "execution_count": 23,
   "id": "670324d3-43a6-4dc4-8f25-8b467850ee70",
   "metadata": {},
   "outputs": [
    {
     "data": {
      "text/plain": [
       "' this is class b'"
      ]
     },
     "execution_count": 23,
     "metadata": {},
     "output_type": "execute_result"
    }
   ],
   "source": [
    "obj1.TestB()"
   ]
  },
  {
   "cell_type": "code",
   "execution_count": 24,
   "id": "366bb605-b2a6-44cc-9589-eef640221e7d",
   "metadata": {},
   "outputs": [
    {
     "data": {
      "text/plain": [
       "' this is class A'"
      ]
     },
     "execution_count": 24,
     "metadata": {},
     "output_type": "execute_result"
    }
   ],
   "source": [
    "obj2= classC()\n",
    "obj2.TestA()"
   ]
  },
  {
   "cell_type": "code",
   "execution_count": 25,
   "id": "0280fc3b-d71e-4dd4-965d-4a35a07693db",
   "metadata": {},
   "outputs": [
    {
     "data": {
      "text/plain": [
       "' this is class c'"
      ]
     },
     "execution_count": 25,
     "metadata": {},
     "output_type": "execute_result"
    }
   ],
   "source": [
    "obj2.TestC()"
   ]
  },
  {
   "cell_type": "code",
   "execution_count": null,
   "id": "bbe55ba8-21ad-4a0f-9ba7-5e47aa21e265",
   "metadata": {},
   "outputs": [],
   "source": []
  }
 ],
 "metadata": {
  "kernelspec": {
   "display_name": "Python 3 (ipykernel)",
   "language": "python",
   "name": "python3"
  },
  "language_info": {
   "codemirror_mode": {
    "name": "ipython",
    "version": 3
   },
   "file_extension": ".py",
   "mimetype": "text/x-python",
   "name": "python",
   "nbconvert_exporter": "python",
   "pygments_lexer": "ipython3",
   "version": "3.10.8"
  }
 },
 "nbformat": 4,
 "nbformat_minor": 5
}
