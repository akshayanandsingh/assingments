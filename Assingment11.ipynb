{
 "cells": [
  {
   "cell_type": "markdown",
   "id": "22444ad1-8cf8-4411-a7a5-8efc3debb1a4",
   "metadata": {},
   "source": [
    "Q1. Which keyword is used to create a function? Create a function to return a list of odd numbers in the\n",
    "range of 1 to 25."
   ]
  },
  {
   "cell_type": "code",
   "execution_count": 1,
   "id": "148a180b-0fd9-4bb5-a2c4-880c55ff0d98",
   "metadata": {},
   "outputs": [
    {
     "name": "stdout",
     "output_type": "stream",
     "text": [
      "[1, 3, 5, 7, 9, 11, 13, 15, 17, 19, 21, 23, 25]\n"
     ]
    }
   ],
   "source": [
    "#answer-1\n",
    "#def keyword is used to create a function\n",
    "\n",
    "\n",
    "l1=[1,2,3,4,5,6,7,8,9,10,11,12,13,14,15,16,17,18,19,20,21,22,23,24,25]\n",
    "\n",
    "def odd_number(l):\n",
    "    l2=[]\n",
    "    \n",
    "    for i in l:\n",
    "        if i%2!=0:\n",
    "            l2.append(i)\n",
    "    return l2\n",
    "            \n",
    "            \n",
    "print(odd_number(l1))"
   ]
  },
  {
   "cell_type": "code",
   "execution_count": null,
   "id": "b7c9f44a-5d04-412f-b452-7acf5a2a8962",
   "metadata": {},
   "outputs": [],
   "source": []
  },
  {
   "cell_type": "markdown",
   "id": "75168974-c9ec-4a33-bcb7-6ee012999deb",
   "metadata": {},
   "source": [
    "Q2. Why *args and **kwargs is used in some functions? Create a function each for *args and **kwargs\n",
    "to demonstrate their use."
   ]
  },
  {
   "cell_type": "code",
   "execution_count": 2,
   "id": "3c3d11d7-08cf-44e7-b461-d6ec5b765892",
   "metadata": {},
   "outputs": [
    {
     "name": "stdout",
     "output_type": "stream",
     "text": [
      "(2, 3, 4, 5, 6, 'akki')\n",
      "{'a': 23, 'b': [1, 2, 3, 4], 'c': 23.4, 'd': 'akki'}\n"
     ]
    }
   ],
   "source": [
    "''' Answer-2\n",
    "*args- The special syntax *args in function definitions in python is used to pass a variable number of arguments to a function.\n",
    "It is used to pass a non-key worded, variable-length argument list.\n",
    "\n",
    "**kwargs- The special syntax **kwargs in function definitions in python is used to pass a keyworded,\n",
    "variable-length argument list. We use the name kwargs with the double star. \n",
    "The reason is that the double star allows us to pass through keyword arguments\n",
    "'''\n",
    "\n",
    "def multiple_args(*args):\n",
    "    return args\n",
    "\n",
    "print(multiple_args(2,3,4,5,6,\"akki\"))\n",
    "\n",
    "def multiple_kvargs(**kwargs): \n",
    "    return kwargs\n",
    "\n",
    "print(multiple_kvargs(a=23, b=[1,2,3,4], c = 23.4, d=\"akki\"))"
   ]
  },
  {
   "cell_type": "code",
   "execution_count": null,
   "id": "bfc248ee-d905-4ad4-93f3-d4bbe926d070",
   "metadata": {},
   "outputs": [],
   "source": []
  },
  {
   "cell_type": "markdown",
   "id": "20d9357e-cda8-4715-976a-1bca47a82237",
   "metadata": {},
   "source": [
    "Q3. What is an iterator in python? Name the method used to initialise the iterator object and the method\n",
    "used for iteration. \n",
    "Use these methods to print the first five elements of the given list\n",
    "[2, 4, 6, 8, 10, 12, 14,16, 18, 20]."
   ]
  },
  {
   "cell_type": "code",
   "execution_count": 1,
   "id": "fa1eb836-87fe-4d59-a89c-56b9f98e151d",
   "metadata": {},
   "outputs": [
    {
     "name": "stdout",
     "output_type": "stream",
     "text": [
      "2\n",
      "4\n",
      "6\n",
      "8\n",
      "10\n"
     ]
    }
   ],
   "source": [
    "'''\n",
    "Answer-3\n",
    "An iterator is an object that contains a countable number of values.\n",
    "An iterator is an object that can be iterated upon, meaning that you can traverse through all the values.\n",
    "Technically, in Python, an iterator is an object which implements the iterator protocol, which consist of the methods __iter__() and __next__().'''\n",
    "\n",
    "list_to_iter= [2, 4, 6, 8, 10, 12, 14, 16, 18, 20]\n",
    "iterated= iter(list_to_iter)\n",
    "print(next(iterated))\n",
    "print(next(iterated))\n",
    "print(next(iterated))\n",
    "print(next(iterated))\n",
    "print(next(iterated))\n"
   ]
  },
  {
   "cell_type": "code",
   "execution_count": null,
   "id": "344a996b-0ad3-48f7-9dc3-fc914b7f33de",
   "metadata": {},
   "outputs": [],
   "source": []
  },
  {
   "cell_type": "markdown",
   "id": "c59e4865-a3d9-4095-ac1d-749d2bb2a3ea",
   "metadata": {},
   "source": [
    "Q4. What is a generator function in python? Why yield keyword is used? Give an example of a generator\n",
    "function."
   ]
  },
  {
   "cell_type": "code",
   "execution_count": 2,
   "id": "84e739ad-6642-4c5b-8668-fdbf64d3231a",
   "metadata": {},
   "outputs": [
    {
     "name": "stdout",
     "output_type": "stream",
     "text": [
      "1\n",
      "2\n",
      "3\n"
     ]
    }
   ],
   "source": [
    "'''\n",
    "Answer-4\n",
    " A generator-function is defined like a normal function, but whenever it needs to generate a value, it does so with the yield keyword rather\n",
    " than return. If the body of a def contains yield, the function automatically becomes a generator function. '''\n",
    "\n",
    "def simpleGeneratorFun():\n",
    "    yield 1           \n",
    "    yield 2           \n",
    "    yield 3           \n",
    "  \n",
    "\n",
    "for value in simpleGeneratorFun():\n",
    "    print(value)"
   ]
  },
  {
   "cell_type": "code",
   "execution_count": null,
   "id": "27158bfc-48f5-4562-af21-4fbbda7c9809",
   "metadata": {},
   "outputs": [],
   "source": []
  },
  {
   "cell_type": "markdown",
   "id": "d2753e61-2edc-44da-b08d-fddc9cb8e375",
   "metadata": {},
   "source": [
    "Q5. Create a generator function for prime numbers less than 1000. Use the next() method to print the\n",
    "first 20 prime numbers."
   ]
  },
  {
   "cell_type": "code",
   "execution_count": 3,
   "id": "4e6a350f-4c21-4e57-b2bc-c224d9b61419",
   "metadata": {},
   "outputs": [
    {
     "name": "stdout",
     "output_type": "stream",
     "text": [
      "2\n",
      "3\n",
      "5\n",
      "7\n",
      "11\n",
      "13\n",
      "17\n",
      "19\n",
      "23\n",
      "29\n",
      "31\n",
      "37\n",
      "41\n",
      "43\n",
      "47\n",
      "53\n",
      "59\n",
      "61\n",
      "67\n",
      "71\n"
     ]
    }
   ],
   "source": [
    "#Answer-5\n",
    "def isPrime(num):\n",
    "    for i in range(2,num):\n",
    "        if num%i==0:\n",
    "            return False\n",
    "    return True\n",
    "    \n",
    "def prime_gen(n):\n",
    "    num=2\n",
    "    while n:\n",
    "        if isPrime(num):\n",
    "            yield num\n",
    "            n-=1\n",
    "        num+=1\n",
    "    return\n",
    "\n",
    "a= prime_gen(1000)\n",
    "print(next(a))\n",
    "print(next(a))\n",
    "print(next(a))\n",
    "print(next(a))\n",
    "print(next(a))\n",
    "print(next(a))\n",
    "print(next(a))\n",
    "print(next(a))\n",
    "print(next(a))\n",
    "print(next(a))\n",
    "print(next(a))\n",
    "print(next(a))\n",
    "print(next(a))\n",
    "print(next(a))\n",
    "print(next(a))\n",
    "print(next(a))\n",
    "print(next(a))\n",
    "print(next(a))\n",
    "print(next(a))\n",
    "print(next(a))"
   ]
  },
  {
   "cell_type": "code",
   "execution_count": null,
   "id": "645de7d8-30f7-4c9a-8103-e03d485c34b6",
   "metadata": {},
   "outputs": [],
   "source": []
  },
  {
   "cell_type": "markdown",
   "id": "39ecdcaa-2cbf-43c2-856c-b43278ab8ec8",
   "metadata": {},
   "source": [
    "Q6. Write a python program to print the first 10 Fibonacci numbers using a while loop."
   ]
  },
  {
   "cell_type": "code",
   "execution_count": 9,
   "id": "27eb5211-32f4-40eb-9779-f058e155bb8b",
   "metadata": {},
   "outputs": [
    {
     "name": "stdout",
     "output_type": "stream",
     "text": [
      "0\n",
      "1\n",
      "1\n",
      "2\n",
      "3\n",
      "5\n",
      "8\n",
      "13\n",
      "21\n",
      "34\n"
     ]
    }
   ],
   "source": [
    "def test_fib(n):\n",
    "    count=1\n",
    "    a,b=0,1\n",
    "    while count<=n:\n",
    "        yield(a) \n",
    "        a,b=b,a+b\n",
    "        count +=1\n",
    "for i in (test_fib(10)):\n",
    "    print(i)"
   ]
  },
  {
   "cell_type": "code",
   "execution_count": null,
   "id": "6453889f-3274-49e7-8e26-60185a8a03de",
   "metadata": {},
   "outputs": [],
   "source": []
  },
  {
   "cell_type": "markdown",
   "id": "a2b1acd1-acf2-4d37-82c1-857cb38ba95c",
   "metadata": {},
   "source": [
    "Q7. Write a List Comprehension to iterate through the given string: ‘pwskills’.\n",
    "\n",
    "Expected output: ['p', 'w', 's', 'k', 'i', 'l', 'l', 's']"
   ]
  },
  {
   "cell_type": "code",
   "execution_count": 10,
   "id": "680126c7-9420-4aeb-a5cf-4bcbaa0be7ec",
   "metadata": {},
   "outputs": [
    {
     "name": "stdout",
     "output_type": "stream",
     "text": [
      "['p', 'w', 's', 'k', 'i', 'l', 'l', 's']\n"
     ]
    }
   ],
   "source": [
    "#Answer=7\n",
    "a= \"pwskills\"\n",
    "b=[i for i in a]\n",
    "print(b)"
   ]
  },
  {
   "cell_type": "code",
   "execution_count": null,
   "id": "44b6d4b5-d7e6-49ca-8891-a712a8d607ca",
   "metadata": {},
   "outputs": [],
   "source": []
  },
  {
   "cell_type": "markdown",
   "id": "1cd41103-1ab0-4d1c-9869-0c2dcbb3f7a0",
   "metadata": {},
   "source": [
    "Q8. Write a python program to check whether a given number is Palindrome or not using a while loop."
   ]
  },
  {
   "cell_type": "code",
   "execution_count": 12,
   "id": "fed2d43a-55ca-44a3-ba97-1d06a1df756c",
   "metadata": {},
   "outputs": [
    {
     "name": "stdin",
     "output_type": "stream",
     "text": [
      "enter your number:  121\n"
     ]
    },
    {
     "name": "stdout",
     "output_type": "stream",
     "text": [
      "121 is a Palindrome\n"
     ]
    }
   ],
   "source": [
    "#Answer-8\n",
    "n = int(input(\"enter your number: \"))\n",
    "\n",
    "reverse = 0\n",
    "temp = n\n",
    "while(temp != 0):\n",
    "   remainder = temp % 10\n",
    "   reverse = reverse * 10 + remainder\n",
    "   temp = int(temp / 10)\n",
    "\n",
    "if(n == reverse):\n",
    "   print(n,'is a Palindrome')\n",
    "else:\n",
    "   print(n,'is not a Palindrome')"
   ]
  },
  {
   "cell_type": "code",
   "execution_count": null,
   "id": "3e3aa3a1-8460-4855-860f-51552a87e3f4",
   "metadata": {},
   "outputs": [],
   "source": []
  },
  {
   "cell_type": "markdown",
   "id": "9cf00ed1-9609-494e-9588-38d4080ff808",
   "metadata": {},
   "source": [
    "Q9. Write a code to print odd numbers from 1 to 100 using list comprehension."
   ]
  },
  {
   "cell_type": "code",
   "execution_count": 13,
   "id": "98df8034-c1de-4e9e-ad68-d5d980cf4d69",
   "metadata": {},
   "outputs": [
    {
     "name": "stdout",
     "output_type": "stream",
     "text": [
      "[1, 3, 5, 7, 9, 11, 13, 15, 17, 19, 21, 23, 25, 27, 29, 31, 33, 35, 37, 39, 41, 43, 45, 47, 49, 51, 53, 55, 57, 59, 61, 63, 65, 67, 69, 71, 73, 75, 77, 79, 81, 83, 85, 87, 89, 91, 93, 95, 97, 99]\n"
     ]
    }
   ],
   "source": [
    "#Answer-9\n",
    "d=[i for i in range(1,101)]\n",
    "answer=[i for i in d if i%2!=0]\n",
    "print(answer)"
   ]
  },
  {
   "cell_type": "code",
   "execution_count": null,
   "id": "0dfaa2e3-1f46-49ba-adca-e1c9fc12ec18",
   "metadata": {},
   "outputs": [],
   "source": []
  }
 ],
 "metadata": {
  "kernelspec": {
   "display_name": "Python 3 (ipykernel)",
   "language": "python",
   "name": "python3"
  },
  "language_info": {
   "codemirror_mode": {
    "name": "ipython",
    "version": 3
   },
   "file_extension": ".py",
   "mimetype": "text/x-python",
   "name": "python",
   "nbconvert_exporter": "python",
   "pygments_lexer": "ipython3",
   "version": "3.10.8"
  }
 },
 "nbformat": 4,
 "nbformat_minor": 5
}
